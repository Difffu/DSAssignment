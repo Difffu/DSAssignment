{
  "nbformat": 4,
  "nbformat_minor": 0,
  "metadata": {
    "colab": {
      "provenance": []
    },
    "kernelspec": {
      "name": "python3",
      "display_name": "Python 3"
    },
    "language_info": {
      "name": "python"
    }
  },
  "cells": [
    {
      "cell_type": "code",
      "source": [
        "'''TOPIC: Python Basics Variable\n",
        "1. Declare two variables, `x` and `y`, and assign them integer values. Swap the values of these variables without using any temporary variable.'''\n",
        "\n",
        "x = 25\n",
        "y = 35\n",
        "\n",
        "print(\"Before Swapping : The value of x =\", x, \"& y = \", y)\n",
        "\n",
        "'''Swapping Algorithm :\n",
        "   1. Sum of both numbers is stored in x\n",
        "   2. If we subtract y from (x+y) then we will get initial value of x. We store this value in y.\n",
        "   3. Next we subtract this updated y from x and store it in x to complete the swap.\n",
        "\n",
        "   The above algorithm is applied in below code and the dynamic values are written in comments'''\n",
        "\n",
        "x = x + y #Current value of x = 60 & y = 35\n",
        "y = x - y #Current value of x = 60 & y = 25\n",
        "x = x - y #Current value of x = 35 & y = 25\n",
        "\n",
        "print(\"After Swapping : The value of x = \", x, \"& y =\", y)"
      ],
      "metadata": {
        "id": "rf5cQClsA86e"
      },
      "execution_count": null,
      "outputs": []
    },
    {
      "cell_type": "code",
      "source": [
        "'''2. Create a program that calculates the area of a rectangle. Take the length and width as inputs from the user and store them in variables. Calculate and display the area.'''\n",
        "\n",
        "#First we take input from user and use metre as unit of calculation\n",
        "Length = float(input(\"Enter length of recangle in metres:\"))\n",
        "Breadth = float(input(\"Enter breadth of rectangle in metres:\"))\n",
        "\n",
        "Area = Length * Breadth #Area of rectangle is product of length and breadth\n",
        "\n",
        "print(\"Area of rectangle = \", Area, \"metres\")"
      ],
      "metadata": {
        "id": "Ka_BJo5NDbb6"
      },
      "execution_count": null,
      "outputs": []
    },
    {
      "cell_type": "code",
      "source": [
        "'''3. Write a Python program that converts temperatures from Celsius to Fahrenheit. Take the temperature in Celsius as input, store it in a variable, convert it to Fahrenheit, and display the result.'''\n",
        "\n",
        "#First we take the temperature input from user in Celcius\n",
        "Cel = float(input(\"Enter temperature in Celcius : \"))\n",
        "\n",
        "#The formula for converting Celsius (°C) to Fahrenheit (°F) is °F = (9/5 × °C) + 32\n",
        "\n",
        "Far = ((9/5) * Cel) + 32\n",
        "\n",
        "print(\"Value in Fahrenheit = \", Far, \"°F\")"
      ],
      "metadata": {
        "id": "q2scvIuyIYYS"
      },
      "execution_count": null,
      "outputs": []
    },
    {
      "cell_type": "code",
      "source": [
        "'''**TOPIC: String Based Questions**\n",
        "1. Write a Python program that takes a string as input and prints the length of the string.'''\n",
        "\n",
        "#First we take input from user\n",
        "\n",
        "input = input(\"Enter a string: \")\n",
        "\n",
        "#We calculate the length of string using len function\n",
        "string_length = len(input)\n",
        "\n",
        "print(\"Length of the string:\", string_length)"
      ],
      "metadata": {
        "id": "suC67CG8KJkF"
      },
      "execution_count": null,
      "outputs": []
    },
    {
      "cell_type": "code",
      "source": [
        "'''2. Create a program that takes a sentence from the user and counts the number of vowels (a, e, i, o, u) in the string.'''\n",
        "\n",
        "#First we take input from the user\n",
        "sentence = input(\"Enter a sentence: \")\n",
        "\n",
        "#Next we convert the sentence to lowercase to make the counting case-insensitive\n",
        "sentence = sentence.lower()\n",
        "\n",
        "#Next we use the count function to count the number of vowels\n",
        "vowel_count = sentence.count('a') + sentence.count('e') + sentence.count('i') + sentence.count('o') + sentence.count('u')\n",
        "\n",
        "print(\"Number of vowels in the sentence:\", vowel_count)"
      ],
      "metadata": {
        "id": "lqYtWPD7MYy9"
      },
      "execution_count": null,
      "outputs": []
    },
    {
      "cell_type": "code",
      "source": [
        "'''3. Given a string, reverse the order of characters using string slicing and print the reversed string.'''\n",
        "\n",
        "#First we get input from the user\n",
        "user_input = input(\"Enter a string: \")\n",
        "\n",
        "#The -1 as the step value in the slicing notation indicates that it should iterate the string in reverse order\n",
        "reversed_string = user_input[::-1]\n",
        "\n",
        "print(\"Reversed string:\", reversed_string)"
      ],
      "metadata": {
        "id": "TBoUyXajO1m-"
      },
      "execution_count": null,
      "outputs": []
    },
    {
      "cell_type": "code",
      "source": [
        "'''4. Write a program that takes a string as input and checks if it is a palindrome (reads the same forwards and backwards).'''\n",
        "\n",
        "#First we get input from the user\n",
        "user_input = input(\"Enter a string: \")\n",
        "\n",
        "#Next we convert the string to lowercase for case-insensitive comparison\n",
        "cleaned_input = user_input.lower()\n",
        "\n",
        "#Next we check if the cleaned string is equal to its reverse\n",
        "if cleaned_input == cleaned_input[::-1]:\n",
        "    print(\"The input is a palindrome.\")\n",
        "else:\n",
        "    print(\"The input is not a palindrome.\")"
      ],
      "metadata": {
        "id": "NlL4HrByPruC"
      },
      "execution_count": null,
      "outputs": []
    },
    {
      "cell_type": "code",
      "source": [
        "'''5. Create a program that takes a string as input and removes all the spaces from it. Print the modified string without spaces.'''\n",
        "\n",
        "#First we get input from the user\n",
        "user_input = input(\"Enter a string: \")\n",
        "\n",
        "#The replace function is used to replace all occurrences of spaces with an empty string, effectively removing them from the input string\n",
        "modified_string = user_input.replace(\" \", \"\")\n",
        "\n",
        "print(\"Modified string without spaces:\", modified_string)\n"
      ],
      "metadata": {
        "id": "ln3XJMYtQlgn"
      },
      "execution_count": null,
      "outputs": []
    }
  ]
}